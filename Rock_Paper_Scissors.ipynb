{
  "nbformat": 4,
  "nbformat_minor": 0,
  "metadata": {
    "colab": {
      "name": "Rock Paper Scissors",
      "version": "0.3.2",
      "provenance": [],
      "collapsed_sections": []
    },
    "kernelspec": {
      "name": "python3",
      "display_name": "Python 3"
    }
  },
  "cells": [
    {
      "metadata": {
        "id": "ylEfSwa-8rw-",
        "colab_type": "code",
        "outputId": "43a7dff5-55da-4b43-96f7-8b07618a15e0",
        "colab": {
          "base_uri": "https://localhost:8080/",
          "height": 202
        }
      },
      "cell_type": "code",
      "source": [
        "import random\n",
        "\n",
        "pc=['rock','paper','scissors']\n",
        "\n",
        "def comp():\n",
        "  comp = random.randint(1,3)\n",
        "  if comp == 1:\n",
        "    (\"rock\")\n",
        "  if comp == 2:\n",
        "    (\"paper\")\n",
        "  if comp == 3:\n",
        "    (\"scissors\")\n",
        "  return comp\n",
        "\n",
        "def user():\n",
        "  print(\"Enter 1 for rock, 2 for paper and 3 for scissors\")\n",
        "  user = input(\"1,2,3\")\n",
        "  return user\n",
        "\n",
        "def main():\n",
        "  num_wins = 0\n",
        "  playing = True\n",
        "  while playing:\n",
        "    play_again = input (\"Enter=Play. Q=Quit.\")\n",
        "    if play_again.lower() != \"q\":\n",
        "        a=int(user())\n",
        "        b=int(comp())\n",
        "    #     print(a)\n",
        "    #     print(b)\n",
        "        if a == 1 and b == 1:\n",
        "             print(\"tied, play again!\")\n",
        "        elif a == 2 and b == 2:\n",
        "            print(\"tied, play again!\")\n",
        "        elif a == 3 and b == 3:\n",
        "            print(\"tied, play again!\")\n",
        "        elif a == 1 and b == 2:\n",
        "            print(\"You lost, play again!\")\n",
        "        elif a == 1 and b == 3:\n",
        "            print(\"You won, play again!\")\n",
        "            num_wins +=1\n",
        "        elif a == 2 and b == 1:\n",
        "            print(\"You won, play again!\")\n",
        "            num_wins +=1\n",
        "        elif a == 2 and b == 3:\n",
        "            print(\"You lost, play again!\")\n",
        "        elif a == 3 and b == 1:\n",
        "            print(\"You lost, play again!\")\n",
        "        elif a == 3 and b == 2 :\n",
        "            print(\"You won, play again!\")\n",
        "            num_wins +=1\n",
        "    else:\n",
        "        playing = False\n",
        "        print(\"Thx for playing!\")\n",
        "        print(\"you won\", num_wins, \"times\")\n",
        "      \n",
        "main()"
      ],
      "execution_count": 2,
      "outputs": [
        {
          "output_type": "stream",
          "text": [
            "Enter=Play. Q=Quit.\n",
            "Enter 1 for rock, 2 for paper and 3 for scissors\n",
            "1,2,33\n",
            "You lost, play again!\n",
            "Enter=Play. Q=Quit.4\n",
            "Enter 1 for rock, 2 for paper and 3 for scissors\n",
            "1,2,33\n",
            "You lost, play again!\n",
            "Enter=Play. Q=Quit.q\n",
            "Thx for playing!\n",
            "you won 0 times\n"
          ],
          "name": "stdout"
        }
      ]
    }
  ]
}