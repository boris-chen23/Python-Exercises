{
  "nbformat": 4,
  "nbformat_minor": 0,
  "metadata": {
    "colab": {
      "name": "Dice- Boris",
      "version": "0.3.2",
      "provenance": [],
      "collapsed_sections": []
    },
    "kernelspec": {
      "name": "python3",
      "display_name": "Python 3"
    }
  },
  "cells": [
    {
      "metadata": {
        "id": "oH8vpzL-TMBJ",
        "colab_type": "code",
        "outputId": "344993c2-b6a4-4aac-ae79-b2b1e379e751",
        "colab": {
          "base_uri": "https://localhost:8080/",
          "height": 84
        }
      },
      "cell_type": "code",
      "source": [
        "import random\n",
        "\n",
        "def roll (sides=32):\n",
        "  num_rolled = random.randint(10,sides)\n",
        "  return num_rolled\n",
        "\n",
        "def main():\n",
        "  sides = 32\n",
        "  rolling = True\n",
        "  while rolling:\n",
        "    roll_again = input (\"Enter=Roll. Q=Quit.\")\n",
        "    if roll_again.lower() != \"q\":\n",
        "      num_rolled = roll(sides)\n",
        "      print(\"You rolled a\", num_rolled)\n",
        "    else:\n",
        "      rolling = False\n",
        "  print(\"Thanks for playing.\")\n",
        "\n",
        "main()"
      ],
      "execution_count": 0,
      "outputs": [
        {
          "output_type": "stream",
          "text": [
            "Enter=Roll. Q=Quit.h\n",
            "You rolled a 18\n",
            "Enter=Roll. Q=Quit.q\n",
            "Thanks for playing.\n"
          ],
          "name": "stdout"
        }
      ]
    }
  ]
}